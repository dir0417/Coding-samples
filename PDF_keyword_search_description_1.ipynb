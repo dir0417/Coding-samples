{
  "nbformat": 4,
  "nbformat_minor": 0,
  "metadata": {
    "colab": {
      "provenance": []
    },
    "kernelspec": {
      "name": "python3",
      "display_name": "Python 3"
    },
    "language_info": {
      "name": "python"
    }
  },
  "cells": [
    {
      "cell_type": "code",
      "source": [
        "pip install pymupdf"
      ],
      "metadata": {
        "colab": {
          "base_uri": "https://localhost:8080/"
        },
        "id": "sky1KvZtRrEM",
        "outputId": "ccb9ca43-c2da-45ea-97f2-f5986ef1c861"
      },
      "execution_count": null,
      "outputs": [
        {
          "output_type": "stream",
          "name": "stdout",
          "text": [
            "Collecting pymupdf\n",
            "  Downloading PyMuPDF-1.23.7-cp310-none-manylinux2014_x86_64.whl (4.4 MB)\n",
            "\u001b[2K     \u001b[90m━━━━━━━━━━━━━━━━━━━━━━━━━━━━━━━━━━━━━━━━\u001b[0m \u001b[32m4.4/4.4 MB\u001b[0m \u001b[31m38.0 MB/s\u001b[0m eta \u001b[36m0:00:00\u001b[0m\n",
            "\u001b[?25hCollecting PyMuPDFb==1.23.7 (from pymupdf)\n",
            "  Downloading PyMuPDFb-1.23.7-py3-none-manylinux2014_x86_64.manylinux_2_17_x86_64.whl (30.6 MB)\n",
            "\u001b[2K     \u001b[90m━━━━━━━━━━━━━━━━━━━━━━━━━━━━━━━━━━━━━━━━\u001b[0m \u001b[32m30.6/30.6 MB\u001b[0m \u001b[31m49.3 MB/s\u001b[0m eta \u001b[36m0:00:00\u001b[0m\n",
            "\u001b[?25hInstalling collected packages: PyMuPDFb, pymupdf\n",
            "Successfully installed PyMuPDFb-1.23.7 pymupdf-1.23.7\n"
          ]
        }
      ]
    },
    {
      "cell_type": "code",
      "source": [
        "import fitz  # PyMuPDF"
      ],
      "metadata": {
        "id": "Wrihui7eJLQf"
      },
      "execution_count": null,
      "outputs": []
    },
    {
      "cell_type": "code",
      "source": [
        "def search_keyword_in_pdf(pdf_path, keyword):\n",
        "    # Open the PDF file\n",
        "    pdf_document = fitz.open(pdf_path)\n",
        "\n",
        "    # Iterate through each page in the PDF\n",
        "    for page_number in range(pdf_document.page_count):\n",
        "        page = pdf_document[page_number]\n",
        "\n",
        "        # Search for the keyword in the text of the page\n",
        "        matches = page.search_for(keyword)\n",
        "\n",
        "        # If matches are found, print the context\n",
        "        if matches:\n",
        "            print(f\"Keyword '{keyword}' found on page {page_number + 1}:\")\n",
        "\n",
        "            for match in matches:\n",
        "                context_start = max(match[0] - 30, 0)\n",
        "                context_end = min(match[1] + 30, len(page.get_text()))\n",
        "\n",
        "                context = page.get_text()[int(context_start):int(context_end)]\n",
        "                print(f\"... {context} ...\")\n",
        "\n",
        "    # Close the PDF document\n",
        "    pdf_document.close()\n",
        "\n",
        "# Example usage\n",
        "pdf_path = \"/content/HPP_2021-2022_BurnSurgeAnnex_SCHCC_FINAL.pdf\"\n",
        "keyword_to_search = \"coordination\"\n",
        "search_keyword_in_pdf(pdf_path, keyword_to_search)\n"
      ],
      "metadata": {
        "colab": {
          "base_uri": "https://localhost:8080/"
        },
        "id": "_yKy1GNwS2bq",
        "outputId": "82bac09a-30db-4341-aba5-83ed1e4a952f"
      },
      "execution_count": null,
      "outputs": [
        {
          "output_type": "stream",
          "name": "stdout",
          "text": [
            "Keyword 'coordination' found on page 2:\n",
            "... ed April 4, 2022 \n",
            "Table of Contents \n",
            "TABLE OF CONTENTS ......................................................................................................................... ...\n",
            "... .................................................................................... 2 \n",
            "INTRODUCTION ....................................................................................................................... ...\n",
            "Keyword 'coordination' found on page 4:\n",
            "... urces in the South Central Region of Colorado.  A burn mass \n",
            "casualty incident (BMCI) is an event in which the number of bu ...\n",
            "Keyword 'coordination' found on page 5:\n",
            "... rn Surge Annex/ Updated April 4, 2022 \n",
            "Situation  \n",
            "The Colorado Burn Unified Response Network (COBurn) \n",
            "COBurn is a network of the four burn centers in Colorado and other healthcare partners that collaborate \n",
            "on planning efforts and training protocols, and they en ...\n",
            "...  ...\n",
            "Keyword 'coordination' found on page 6:\n",
            "... Central Region.   \n",
            "Minimum Burn Bed Capacity \n",
            "County \n",
            "Population2 \n",
            "Acute Care Hospitals \n",
            "Target Burn Capacity \n",
            "Chaffee \n",
            "19,476 \n",
            "0 \n",
            "1 \n",
            "El Paso \n",
            "730,395 \n",
            "4 \n",
            "37 \n",
            "Lake \n",
            "7,436 \n",
            "0 \n",
            "0 \n",
            "Park  \n",
            "17,390 \n",
            "0 \n",
            "1 \n",
            "Teller  \n",
            "24,710 \n",
            "1 \n",
            "1 \n",
            "Total \n",
            "799,407 \n",
            "5 \n",
            "40 \n",
            " \n",
            "Additional Assumptions \n",
            "1.  ...\n",
            "Keyword 'coordination' found on page 7:\n",
            "... d by the SCHCC on an annual basis. Additionally, the Annex is updated \n",
            "and revised with relevant information followi ...\n",
            "... on following real-world events, planned training and exercises, and/or \n",
            "the development of After-Action Reports/Improvement Plans. Revised versions of the plan are distributed \n",
            "to the appropriate partners and key stakeholders.  \n",
            "Concept of O ...\n",
            "Keyword 'coordination' found on page 9:\n",
            "... ated April 4, 2022 \n",
            "The initial notifications regarding the activation o ...\n",
            "... nex will follow the same procedures as those \n",
            "identified within the SCHCC Response Plan.  The SCHCC will support the SBCC with additional notifications \n",
            "and coordination with the burn centers and burn surge facilities. \n",
            "See Appendix 4: Activation of the Burn Surge Annex and the SCHCC Response Plan.   \n",
            "Incident Operations \n",
            "Once the SCHCC Response Pl ...\n",
            "... e procedures as those \n",
            "identified within the SCHCC Response Plan.  The SCHCC will support the SBCC with additional notifications \n",
            "and coordination with the burn centers and burn surge facilities. \n",
            "See Appendix 4: Activation of the Burn Surge Annex and the SCHCC Response Plan.   \n",
            "Incident Operations \n",
            "Once the SCHCC Response Plan and this Annex have been a ...\n",
            "... ivation of the Burn Surge Annex and the SCHCC Response Plan.   \n",
            "Incident Operations \n",
            "Once the SCHCC Response Plan and this Annex have been activated, the SCHCC will coordinate response \n",
            "activities per the S ...\n",
            "Keyword 'coordination' found on page 16:\n",
            "... rts for one another throughout the Western United States. \n",
            "The American Burn Assoc ...\n",
            "... 2 \n",
            "Appendix 2: Western Region Burn Disaster Consortium Information  \n",
            "The Utah-based Western Region Burn Disaster Consortium consists of 27 burn centers (13 verified) who \n",
            "have joined together to support response efforts for one another throughout the Western United States. \n",
            "The American Burn Association (ABA) has designated the following me ...\n",
            "Keyword 'coordination' found on page 19:\n",
            "...  ...\n",
            "... Below is the information necessary to provide to the Communication Agency upo ...\n"
          ]
        }
      ]
    }
  ]
}