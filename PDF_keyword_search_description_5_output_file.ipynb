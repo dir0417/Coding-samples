{
  "nbformat": 4,
  "nbformat_minor": 0,
  "metadata": {
    "colab": {
      "provenance": []
    },
    "kernelspec": {
      "name": "python3",
      "display_name": "Python 3"
    },
    "language_info": {
      "name": "python"
    }
  },
  "cells": [
    {
      "cell_type": "code",
      "source": [
        "!pip install pymupdf python-docx"
      ],
      "metadata": {
        "colab": {
          "base_uri": "https://localhost:8080/"
        },
        "id": "N8A6l7adPOCN",
        "outputId": "a45b65d6-6cc9-4bdf-d6b9-4464646f87e6"
      },
      "execution_count": null,
      "outputs": [
        {
          "output_type": "stream",
          "name": "stdout",
          "text": [
            "Requirement already satisfied: pymupdf in /usr/local/lib/python3.10/dist-packages (1.23.16)\n",
            "Requirement already satisfied: python-docx in /usr/local/lib/python3.10/dist-packages (1.1.0)\n",
            "Requirement already satisfied: PyMuPDFb==1.23.9 in /usr/local/lib/python3.10/dist-packages (from pymupdf) (1.23.9)\n",
            "Requirement already satisfied: lxml>=3.1.0 in /usr/local/lib/python3.10/dist-packages (from python-docx) (4.9.4)\n",
            "Requirement already satisfied: typing-extensions in /usr/local/lib/python3.10/dist-packages (from python-docx) (4.5.0)\n"
          ]
        }
      ]
    },
    {
      "cell_type": "code",
      "source": [
        "import fitz  # PyMuPDF\n",
        "import docx"
      ],
      "metadata": {
        "id": "VCopvdDZUo_2"
      },
      "execution_count": null,
      "outputs": []
    },
    {
      "cell_type": "code",
      "execution_count": null,
      "metadata": {
        "id": "ixUlZiZuUjBD",
        "colab": {
          "base_uri": "https://localhost:8080/"
        },
        "outputId": "e7fcc2ed-15a3-4a04-e95a-18c6b566e0a5"
      },
      "outputs": [
        {
          "output_type": "stream",
          "name": "stdout",
          "text": [
            "Output saved to /content/output.docx\n"
          ]
        }
      ],
      "source": [
        "def search_keywords_in_pdf(pdf_path, keywords):\n",
        "    doc = fitz.open(pdf_path)\n",
        "    output_doc = docx.Document()\n",
        "\n",
        "    for page_number in range(doc.page_count):\n",
        "        page = doc[page_number]\n",
        "        text = page.get_text()\n",
        "\n",
        "        for keyword in keywords:\n",
        "            if keyword in text:\n",
        "                # Extracting context around the keyword\n",
        "                context_start = max(0, text.find(keyword) - 200)\n",
        "                context_end = min(len(text), text.find(keyword) + 200 + len(keyword))\n",
        "                context = text[context_start:context_end]\n",
        "\n",
        "                # Add content to the DOCX document\n",
        "                output_doc.add_paragraph(f\"Page {page_number + 1}, Keyword: {keyword}:\\n{context}\\n\\n\")\n",
        "\n",
        "    doc.close()\n",
        "    return output_doc\n",
        "\n",
        "def save_output_to_file(output_doc, output_file):\n",
        "    output_doc.save(output_file)\n",
        "\n",
        "if __name__ == \"__main__\":\n",
        "    pdf_path = \"/content/HPP_2021-2022_BurnSurgeAnnex_SCHCC_FINAL.pdf\"\n",
        "    keywords = [\"coordination\", \"another_keyword\", \"third_keyword\"]\n",
        "    output_file = \"/content/output.docx\"\n",
        "\n",
        "    result_doc = search_keywords_in_pdf(pdf_path, keywords)\n",
        "\n",
        "    if len(result_doc.paragraphs) > 0:\n",
        "        save_output_to_file(result_doc, output_file)\n",
        "        print(f\"Output saved to {output_file}\")\n",
        "    else:\n",
        "        print(f\"No occurrences of any keyword found in the PDF.\")\n"
      ]
    },
    {
      "cell_type": "code",
      "source": [],
      "metadata": {
        "id": "rmhbXeHot7I6"
      },
      "execution_count": null,
      "outputs": []
    }
  ]
}