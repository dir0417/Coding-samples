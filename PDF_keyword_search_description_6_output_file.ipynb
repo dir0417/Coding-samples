{
  "nbformat": 4,
  "nbformat_minor": 0,
  "metadata": {
    "colab": {
      "provenance": []
    },
    "kernelspec": {
      "name": "python3",
      "display_name": "Python 3"
    },
    "language_info": {
      "name": "python"
    }
  },
  "cells": [
    {
      "cell_type": "code",
      "source": [
        "!pip install pymupdf python-docx"
      ],
      "metadata": {
        "id": "bBwYWZcLXM6B"
      },
      "execution_count": null,
      "outputs": []
    },
    {
      "cell_type": "code",
      "source": [
        "import fitz  # PyMuPDF\n",
        "import docx"
      ],
      "metadata": {
        "id": "uvBzuzH7XLnW"
      },
      "execution_count": null,
      "outputs": []
    },
    {
      "cell_type": "code",
      "execution_count": null,
      "metadata": {
        "id": "AmwgytNEXJ7O"
      },
      "outputs": [],
      "source": [
        "def search_keywords_in_pdf_and_save_docx(pdf_path, keywords, output_docx_path):\n",
        "    # Open the PDF file\n",
        "    pdf_document = fitz.open(pdf_path)\n",
        "\n",
        "    # Initialize a Word document\n",
        "    doc = docx.Document()\n",
        "\n",
        "    # Initialize a dictionary to store page numbers where each keyword is found\n",
        "    keyword_pages = {keyword: [] for keyword in keywords}\n",
        "\n",
        "    # Iterate through each page in the PDF\n",
        "    for page_number in range(pdf_document.page_count):\n",
        "        # Get the page\n",
        "        page = pdf_document[page_number]\n",
        "\n",
        "        # Search for each keyword in the text of the page\n",
        "        for keyword in keywords:\n",
        "            keyword_instances = page.search_for(keyword)\n",
        "\n",
        "            # If the keyword is found on the page, store the page number and add information to the Word document\n",
        "            if keyword_instances:\n",
        "                keyword_pages[keyword].append(page_number + 1)  # Page numbers start from 1\n",
        "\n",
        "                # Display the context of the keyword on the page\n",
        "                for inst in keyword_instances:\n",
        "                    context = page.get_text(\"text\", clip=inst).strip()\n",
        "                    print(f\"Page {page_number + 1}, Keyword: {keyword}, Context: {context}\")\n",
        "\n",
        "                    # Add information to the Word document\n",
        "                    doc.add_paragraph(f\"Page {page_number + 1}, Keyword: {keyword}, Context: {context}\")\n",
        "\n",
        "    # Close the PDF document\n",
        "    pdf_document.close()\n",
        "\n",
        "    # Save the Word document\n",
        "    doc.save(output_docx_path)\n",
        "\n",
        "    # Display the pages where each keyword is found\n",
        "    for keyword, pages in keyword_pages.items():\n",
        "        print(f\"\\nKeyword '{keyword}' found on pages: {', '.join(map(str, pages))}\")\n",
        "\n",
        "\n",
        "# Example usage with multiple keywords\n",
        "pdf_path = \"/content/HPP_2021-2022_BurnSurgeAnnex_SCHCC_FINAL.pdf\"\n",
        "output_docx_path = \"/content/output_document.docx\"\n",
        "keywords_to_search = [\"coordination\", \"emergency\", \"response\"]\n",
        "search_keywords_in_pdf_and_save_docx(pdf_path, keywords_to_search, output_docx_path)\n",
        "\n"
      ]
    }
  ]
}